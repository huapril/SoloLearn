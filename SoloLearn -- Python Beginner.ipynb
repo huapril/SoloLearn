{
 "cells": [
  {
   "cell_type": "markdown",
   "id": "0816ab51",
   "metadata": {},
   "source": [
    "# Basic Concepts\n",
    "\n",
    "## Flight Time\n",
    "You need to calculate the flight time of an upcoming trip. You are flying from LA to Sydney, covering a distance of **7425** miles, the plane flies at an average speed of **550** miles an hour.\n",
    "\n",
    "Calculate and output the total flight time in hours.\n",
    "\n",
    "#### Hint: The result should be a float.\n",
    "\n",
    "#### Use the print statement to output the result."
   ]
  },
  {
   "cell_type": "code",
   "execution_count": 1,
   "id": "705ed4e0",
   "metadata": {},
   "outputs": [
    {
     "name": "stdout",
     "output_type": "stream",
     "text": [
      "13.5\n"
     ]
    }
   ],
   "source": [
    "#your code goes here\n",
    "print(7425/550)"
   ]
  },
  {
   "cell_type": "markdown",
   "id": "16cd7e35",
   "metadata": {},
   "source": [
    "# Strings\n",
    "\n",
    "## Leaderboard\n",
    "You need to make a program for a leaderboard.\n",
    "The program needs to output the numbers 1 to 9, each on a separate line, followed by a dot:\n",
    "1. <br>\n",
    "2. <br>\n",
    "3. <br>\n",
    "...\n",
    "\n",
    "#### You can use the \\n newline character to create line breaks, or, alternatively, create the desired output using three double quotes \"\"\". "
   ]
  },
  {
   "cell_type": "code",
   "execution_count": 2,
   "id": "e6e2726e",
   "metadata": {},
   "outputs": [
    {
     "name": "stdout",
     "output_type": "stream",
     "text": [
      "1.\n",
      "\n",
      "2.\n",
      "\n",
      "3.\n",
      "\n",
      "4.\n",
      "\n",
      "5.\n",
      "\n",
      "6.\n",
      "\n",
      "7.\n",
      "\n",
      "8.\n",
      "\n",
      "9.\n",
      "\n"
     ]
    }
   ],
   "source": [
    "#your code goes here\n",
    "for i in range(1,10):\n",
    "    print(\"{}.\\n\".format(i))"
   ]
  },
  {
   "cell_type": "markdown",
   "id": "add569f2",
   "metadata": {},
   "source": [
    "# Variables\n",
    "\n",
    "## Tip Calculator\n",
    "\n",
    "When you go out to eat, you always tip 20% of the bill amount. But who’s got the time to calculate the right tip amount every time? Not you that’s for sure! You’re making a program to calculate tips and save some time.\n",
    "\n",
    "Your program needs to take the bill amount as input and output the tip as a float.\n",
    "\n",
    "**Sample Input** <br>\n",
    "50\n",
    "\n",
    "**Sample Output** <br>\n",
    "10.0\n",
    "\n",
    "**Explanation:** \n",
    "20% of 50 is 10. <br>\n",
    "To calculate 20% of a given amount, you can multiply the number by 20 and divide it by 100: **50*20/100 = 10.0**"
   ]
  },
  {
   "cell_type": "code",
   "execution_count": 3,
   "id": "146cee83",
   "metadata": {},
   "outputs": [
    {
     "name": "stdout",
     "output_type": "stream",
     "text": [
      "50\n",
      "10.0\n"
     ]
    }
   ],
   "source": [
    "bill = int(input())\n",
    "#your code goes here\n",
    "print(0.2*bill)"
   ]
  },
  {
   "cell_type": "markdown",
   "id": "ad2916f0",
   "metadata": {},
   "source": [
    "# Control Flow\n",
    "\n",
    "## BMI Calculator\n",
    "\n",
    "Tracking your BMI is a useful way of checking if you’re maintaining a healthy weight. It’s calculated using a person's weight and height, using this formula: **weight / height²**\n",
    "\n",
    "The resulting number indicates one of the following categories: <br>\n",
    "**Underweight** = less than 18.5 <br>\n",
    "**Normal** = more or equal to 18.5 and less than 25 <br>\n",
    "**Overweight** = more or equal to 25 and less than 30 <br>\n",
    "**Obesity** = 30 or more <br>\n",
    "\n",
    "Let’s make finding out your BMI quicker and easier, by creating a program that takes a person's weight and height as input and outputs the corresponding BMI category.\n",
    "\n",
    "**Sample Input** <br>\n",
    "85\n",
    "1.9\n",
    "\n",
    "**Sample Output** <br>\n",
    "Normal\n",
    "\n",
    "Weight is in kg, height is in meters.\n",
    "Note, that height is a **float**."
   ]
  },
  {
   "cell_type": "code",
   "execution_count": 4,
   "id": "3b2c35a8",
   "metadata": {},
   "outputs": [
    {
     "name": "stdout",
     "output_type": "stream",
     "text": [
      "85\n",
      "1.9\n",
      "Normal\n"
     ]
    }
   ],
   "source": [
    "#your code goes here\n",
    "w=float(input())\n",
    "h=float(input())\n",
    "bmi = w/(h*h)\n",
    "if bmi<18.5:\n",
    "    print(\"Underweight\")\n",
    "elif bmi <25:\n",
    "    print(\"Normal\")\n",
    "elif bmi <30:\n",
    "    print(\"Overweight\")\n",
    "else:\n",
    "    print(\"Obesity\")"
   ]
  },
  {
   "cell_type": "markdown",
   "id": "dfd84946",
   "metadata": {},
   "source": [
    "# Lists\n",
    "\n",
    "## Sum of Consecutive Numbers\n",
    "\n",
    "No one likes homework, but your math teacher has given you an assignment to find the sum of the first N numbers.\n",
    "\n",
    "Let’s save some time by creating a program to do the calculation for you!\n",
    "\n",
    "Take a number N as input and output the sum of all numbers from 1 to N (including N).\n",
    "\n",
    "**Sample Input** <br>\n",
    "100\n",
    "\n",
    "**Sample Outpu** <br>\n",
    "5050\n",
    "\n",
    "**Explanation:** The sum of all numbers from 1 to 100 is equal to **5050**.\n",
    "\n",
    "You can iterate over a range and calculate the sum of all numbers in the range.\n",
    "Remember, **range(a, b)** does not include b, thus you need to use **b+1** to include b in the range."
   ]
  },
  {
   "cell_type": "code",
   "execution_count": 5,
   "id": "bc86cea3",
   "metadata": {},
   "outputs": [
    {
     "name": "stdout",
     "output_type": "stream",
     "text": [
      "100\n",
      "5050\n"
     ]
    }
   ],
   "source": [
    "N = int(input())\n",
    "#your code goes here\n",
    "sum = 0\n",
    "for i in range(N+1):\n",
    "    sum+=i\n",
    "print(sum)"
   ]
  },
  {
   "cell_type": "markdown",
   "id": "bf8fb58e",
   "metadata": {},
   "source": [
    "# Functions\n",
    "\n",
    "## Search Engine\n",
    "\n",
    "You’re working on a search engine. Watch your back Google!\n",
    "\n",
    "The given code takes a **text** and a **word** as input and passes them to a function called **search()**.\n",
    "\n",
    "The **search()** function should return \"Word found\" if the word is present in the text, or \"Word not found\", if it’s not.\n",
    "\n",
    "**Sample Input** <br>\n",
    "\"This is awesome\"\n",
    "\"awesome\"\n",
    "\n",
    "**Sample Output** <br>\n",
    "Word found\n",
    "\n",
    "Define the **search()** function, so that the given code works as expected."
   ]
  },
  {
   "cell_type": "code",
   "execution_count": 9,
   "id": "7ac1ff0f",
   "metadata": {},
   "outputs": [
    {
     "name": "stdout",
     "output_type": "stream",
     "text": [
      "This is awesome\n",
      "awesome\n",
      "Word found\n"
     ]
    }
   ],
   "source": [
    "def search(text,word) :\n",
    "    if word in text :\n",
    "        print (\"Word found\")\n",
    "    else:\n",
    "        print('Word not found')\n",
    "\n",
    "text = input()\n",
    "word = input()\n",
    "search(text,word)"
   ]
  }
 ],
 "metadata": {
  "kernelspec": {
   "display_name": "Python 3 (ipykernel)",
   "language": "python",
   "name": "python3"
  },
  "language_info": {
   "codemirror_mode": {
    "name": "ipython",
    "version": 3
   },
   "file_extension": ".py",
   "mimetype": "text/x-python",
   "name": "python",
   "nbconvert_exporter": "python",
   "pygments_lexer": "ipython3",
   "version": "3.9.7"
  }
 },
 "nbformat": 4,
 "nbformat_minor": 5
}
